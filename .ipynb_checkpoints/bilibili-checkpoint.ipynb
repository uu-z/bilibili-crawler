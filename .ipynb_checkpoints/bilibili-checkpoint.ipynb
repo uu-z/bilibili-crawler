{
 "cells": [
  {
   "cell_type": "code",
   "execution_count": 28,
   "metadata": {},
   "outputs": [],
   "source": [
    "import re\n",
    "import requests\n",
    "from bs4 import BeautifulSoup as bs\n",
    "from pyquery import PyQuery as pq\n",
    "from pymongo import MongoClient\n",
    "from IPython.display import JSON"
   ]
  },
  {
   "cell_type": "code",
   "execution_count": 39,
   "metadata": {},
   "outputs": [],
   "source": [
    "db = MongoClient(\"mongodb://localhost:27017\")\n",
    "bili = db.bilibili\n",
    "(aids, rpids, cids) = (bili.aids, bili.rpids, bili.cids)\n",
    "\n",
    "def getRanking():\n",
    "    ranking_doc = pq(\"https://www.bilibili.com/ranking\")\n",
    "    for i in ranking_doc(\"a[class^='title']\").items():\n",
    "        aid = re.search('av\\d+', i.attr.href)[0][2:]\n",
    "        aids.update_one({\"aid\": aid},{\"$set\":{\"aid\": aid}},upsert=True)\n",
    "        \n",
    "        \n",
    "def getComment(db_aids):\n",
    "    for i in db_aids:\n",
    "        aid = i[\"aid\"]\n",
    "        reply = requests.get(\"https://api.bilibili.com/x/v2/reply?jsonp=jsonp&pn=1&type=1&oid={aid}&sort=2\".format(aid=aid))\n",
    "        data = reply.json()['data']\n",
    "        replies = data[\"replies\"]\n",
    "        rpids.insert_many(replies)\n",
    "        aids.update_one({\"aid\":aid},{\"$set\":{\"replies\": 1}})\n",
    "\n",
    "def getDanmu(db_aids):\n",
    "    for i in db_aids:\n",
    "        aid = i['aid']\n",
    "        pages = requests.get(\"http://www.bilibili.com/widget/getPageList?aid={aid}\".format(aid=aid))\n",
    "        json = pages.json()\n",
    "        for it  in json:\n",
    "            cid = it['cid']\n",
    "            xml = requests.get(url=\"http://comment.bilibili.com/{cid}.xml\".format(cid=cid))\n",
    "            xml.encoding = 'utf-8'\n",
    "            soup = bs(xml.text,'xml')\n",
    "            dmlist = soup.find_all('d')\n",
    "            danmus = [t.string for t in dmlist]\n",
    "            cids.update_one({\"cid\": cid},{\"$set\": {\"danmus\": danmus, \"cid\": cid, \"aid\": aid}}, upsert=True)\n",
    "            aids.update_one({\"aid\":aid},{\"$addToSet\":{\"cids\": cid}})"
   ]
  },
  {
   "cell_type": "code",
   "execution_count": 59,
   "metadata": {},
   "outputs": [
    {
     "name": "stdout",
     "output_type": "stream",
     "text": [
      "aids: 138\n",
      "rpids: 2760\n",
      "cids: 229\n"
     ]
    }
   ],
   "source": [
    "getRanking()\n",
    "getComment(aids.find({\"replies\":{\"$exists\": False}}))\n",
    "getDanmu(aids.find({\"cids\":{\"$exists\": False}}))\n",
    "print(\"aids: {aid}\".format(aid=aids.estimated_document_count()))\n",
    "print(\"rpids: {rpids}\".format(rpids=rpids.estimated_document_count()))\n",
    "print(\"cids: {cids}\".format(cids=cids.estimated_document_count()))"
   ]
  },
  {
   "cell_type": "code",
   "execution_count": null,
   "metadata": {},
   "outputs": [],
   "source": []
  },
  {
   "cell_type": "code",
   "execution_count": null,
   "metadata": {},
   "outputs": [],
   "source": []
  }
 ],
 "metadata": {
  "kernelspec": {
   "display_name": "Python 3",
   "language": "python",
   "name": "python3"
  },
  "language_info": {
   "codemirror_mode": {
    "name": "ipython",
    "version": 3
   },
   "file_extension": ".py",
   "mimetype": "text/x-python",
   "name": "python",
   "nbconvert_exporter": "python",
   "pygments_lexer": "ipython3",
   "version": "3.6.5"
  }
 },
 "nbformat": 4,
 "nbformat_minor": 2
}
